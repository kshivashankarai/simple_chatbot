{
 "cells": [
  {
   "cell_type": "markdown",
   "metadata": {},
   "source": [
    "# Download the model"
   ]
  },
  {
   "cell_type": "code",
   "execution_count": 28,
   "metadata": {},
   "outputs": [],
   "source": [
    "from huggingface_hub import hf_hub_download"
   ]
  },
  {
   "cell_type": "code",
   "execution_count": 29,
   "metadata": {},
   "outputs": [],
   "source": [
    "model_name = 'TheBloke/TinyLlama-1.1B-Chat-v1.0-GGUF'"
   ]
  },
  {
   "cell_type": "code",
   "execution_count": 30,
   "metadata": {},
   "outputs": [],
   "source": [
    "# Define the name of the model file to download.\n",
    "model_file = 'tinyllama-1.1b-chat-v1.0.Q8_0.gguf'"
   ]
  },
  {
   "cell_type": "code",
   "execution_count": 31,
   "metadata": {},
   "outputs": [],
   "source": [
    "# Download the model from the Hugging Face Hub and store the \n",
    "# path to the downloaded file in the `model_path` variable.\n",
    "model_path = hf_hub_download(model_name, filename=model_file, local_dir='/home/shiva/DeveloperDen/Python/chat_with_postgres/model')"
   ]
  },
  {
   "cell_type": "code",
   "execution_count": 32,
   "metadata": {},
   "outputs": [
    {
     "name": "stdout",
     "output_type": "stream",
     "text": [
      "Model downloaded to: /home/shiva/DeveloperDen/Python/chat_with_postgres/model/tinyllama-1.1b-chat-v1.0.Q8_0.gguf\n"
     ]
    }
   ],
   "source": [
    "# Print a message indicating that the model has been downloaded.\n",
    "print(f'Model downloaded to: {model_path}')"
   ]
  },
  {
   "cell_type": "markdown",
   "metadata": {},
   "source": [
    "# Initializing the Model"
   ]
  },
  {
   "cell_type": "code",
   "execution_count": 33,
   "metadata": {},
   "outputs": [],
   "source": [
    "from llama_cpp import Llama"
   ]
  },
  {
   "cell_type": "code",
   "execution_count": 34,
   "metadata": {},
   "outputs": [
    {
     "name": "stderr",
     "output_type": "stream",
     "text": [
      "llama_model_loader: loaded meta data with 23 key-value pairs and 201 tensors from /home/shiva/DeveloperDen/Python/chat_with_postgres/model/tinyllama-1.1b-chat-v1.0.Q8_0.gguf (version GGUF V3 (latest))\n",
      "llama_model_loader: Dumping metadata keys/values. Note: KV overrides do not apply in this output.\n",
      "llama_model_loader: - kv   0:                       general.architecture str              = llama\n",
      "llama_model_loader: - kv   1:                               general.name str              = tinyllama_tinyllama-1.1b-chat-v1.0\n",
      "llama_model_loader: - kv   2:                       llama.context_length u32              = 2048\n",
      "llama_model_loader: - kv   3:                     llama.embedding_length u32              = 2048\n",
      "llama_model_loader: - kv   4:                          llama.block_count u32              = 22\n"
     ]
    },
    {
     "name": "stderr",
     "output_type": "stream",
     "text": [
      "llama_model_loader: - kv   5:                  llama.feed_forward_length u32              = 5632\n",
      "llama_model_loader: - kv   6:                 llama.rope.dimension_count u32              = 64\n",
      "llama_model_loader: - kv   7:                 llama.attention.head_count u32              = 32\n",
      "llama_model_loader: - kv   8:              llama.attention.head_count_kv u32              = 4\n",
      "llama_model_loader: - kv   9:     llama.attention.layer_norm_rms_epsilon f32              = 0.000010\n",
      "llama_model_loader: - kv  10:                       llama.rope.freq_base f32              = 10000.000000\n",
      "llama_model_loader: - kv  11:                          general.file_type u32              = 7\n",
      "llama_model_loader: - kv  12:                       tokenizer.ggml.model str              = llama\n",
      "llama_model_loader: - kv  13:                      tokenizer.ggml.tokens arr[str,32000]   = [\"<unk>\", \"<s>\", \"</s>\", \"<0x00>\", \"<...\n",
      "llama_model_loader: - kv  14:                      tokenizer.ggml.scores arr[f32,32000]   = [0.000000, 0.000000, 0.000000, 0.0000...\n",
      "llama_model_loader: - kv  15:                  tokenizer.ggml.token_type arr[i32,32000]   = [2, 3, 3, 6, 6, 6, 6, 6, 6, 6, 6, 6, ...\n",
      "llama_model_loader: - kv  16:                      tokenizer.ggml.merges arr[str,61249]   = [\"▁ t\", \"e r\", \"i n\", \"▁ a\", \"e n...\n",
      "llama_model_loader: - kv  17:                tokenizer.ggml.bos_token_id u32              = 1\n",
      "llama_model_loader: - kv  18:                tokenizer.ggml.eos_token_id u32              = 2\n",
      "llama_model_loader: - kv  19:            tokenizer.ggml.unknown_token_id u32              = 0\n",
      "llama_model_loader: - kv  20:            tokenizer.ggml.padding_token_id u32              = 2\n",
      "llama_model_loader: - kv  21:                    tokenizer.chat_template str              = {% for message in messages %}\\n{% if m...\n",
      "llama_model_loader: - kv  22:               general.quantization_version u32              = 2\n",
      "llama_model_loader: - type  f32:   45 tensors\n",
      "llama_model_loader: - type q8_0:  156 tensors\n",
      "llm_load_vocab: special tokens cache size = 3\n",
      "llm_load_vocab: token to piece cache size = 0.1684 MB\n",
      "llm_load_print_meta: format           = GGUF V3 (latest)\n",
      "llm_load_print_meta: arch             = llama\n",
      "llm_load_print_meta: vocab type       = SPM\n",
      "llm_load_print_meta: n_vocab          = 32000\n",
      "llm_load_print_meta: n_merges         = 0\n",
      "llm_load_print_meta: vocab_only       = 0\n",
      "llm_load_print_meta: n_ctx_train      = 2048\n",
      "llm_load_print_meta: n_embd           = 2048\n",
      "llm_load_print_meta: n_layer          = 22\n",
      "llm_load_print_meta: n_head           = 32\n",
      "llm_load_print_meta: n_head_kv        = 4\n",
      "llm_load_print_meta: n_rot            = 64\n",
      "llm_load_print_meta: n_swa            = 0\n",
      "llm_load_print_meta: n_embd_head_k    = 64\n",
      "llm_load_print_meta: n_embd_head_v    = 64\n",
      "llm_load_print_meta: n_gqa            = 8\n",
      "llm_load_print_meta: n_embd_k_gqa     = 256\n",
      "llm_load_print_meta: n_embd_v_gqa     = 256\n",
      "llm_load_print_meta: f_norm_eps       = 0.0e+00\n",
      "llm_load_print_meta: f_norm_rms_eps   = 1.0e-05\n",
      "llm_load_print_meta: f_clamp_kqv      = 0.0e+00\n",
      "llm_load_print_meta: f_max_alibi_bias = 0.0e+00\n",
      "llm_load_print_meta: f_logit_scale    = 0.0e+00\n",
      "llm_load_print_meta: n_ff             = 5632\n",
      "llm_load_print_meta: n_expert         = 0\n",
      "llm_load_print_meta: n_expert_used    = 0\n",
      "llm_load_print_meta: causal attn      = 1\n",
      "llm_load_print_meta: pooling type     = 0\n",
      "llm_load_print_meta: rope type        = 0\n",
      "llm_load_print_meta: rope scaling     = linear\n",
      "llm_load_print_meta: freq_base_train  = 10000.0\n",
      "llm_load_print_meta: freq_scale_train = 1\n",
      "llm_load_print_meta: n_ctx_orig_yarn  = 2048\n",
      "llm_load_print_meta: rope_finetuned   = unknown\n",
      "llm_load_print_meta: ssm_d_conv       = 0\n",
      "llm_load_print_meta: ssm_d_inner      = 0\n",
      "llm_load_print_meta: ssm_d_state      = 0\n",
      "llm_load_print_meta: ssm_dt_rank      = 0\n",
      "llm_load_print_meta: ssm_dt_b_c_rms   = 0\n",
      "llm_load_print_meta: model type       = 1B\n",
      "llm_load_print_meta: model ftype      = Q8_0\n",
      "llm_load_print_meta: model params     = 1.10 B\n",
      "llm_load_print_meta: model size       = 1.09 GiB (8.50 BPW) \n",
      "llm_load_print_meta: general.name     = tinyllama_tinyllama-1.1b-chat-v1.0\n",
      "llm_load_print_meta: BOS token        = 1 '<s>'\n",
      "llm_load_print_meta: EOS token        = 2 '</s>'\n",
      "llm_load_print_meta: UNK token        = 0 '<unk>'\n",
      "llm_load_print_meta: PAD token        = 2 '</s>'\n",
      "llm_load_print_meta: LF token         = 13 '<0x0A>'\n",
      "llm_load_print_meta: max token length = 48\n",
      "llm_load_tensors: ggml ctx size =    0.09 MiB\n",
      "llm_load_tensors:        CPU buffer size =  1114.91 MiB\n",
      "..........................................................................................\n",
      "llama_new_context_with_model: n_ctx      = 512\n",
      "llama_new_context_with_model: n_batch    = 512\n",
      "llama_new_context_with_model: n_ubatch   = 512\n",
      "llama_new_context_with_model: flash_attn = 0\n",
      "llama_new_context_with_model: freq_base  = 10000.0\n",
      "llama_new_context_with_model: freq_scale = 1\n",
      "llama_kv_cache_init:        CPU KV buffer size =    11.00 MiB\n",
      "llama_new_context_with_model: KV self size  =   11.00 MiB, K (f16):    5.50 MiB, V (f16):    5.50 MiB\n",
      "llama_new_context_with_model:        CPU  output buffer size =     0.12 MiB\n",
      "llama_new_context_with_model:        CPU compute buffer size =    66.50 MiB\n",
      "llama_new_context_with_model: graph nodes  = 710\n",
      "llama_new_context_with_model: graph splits = 1\n",
      "AVX = 1 | AVX_VNNI = 0 | AVX2 = 1 | AVX512 = 0 | AVX512_VBMI = 0 | AVX512_VNNI = 0 | AVX512_BF16 = 0 | FMA = 1 | NEON = 0 | SVE = 0 | ARM_FMA = 0 | F16C = 1 | FP16_VA = 0 | WASM_SIMD = 0 | BLAS = 0 | SSE3 = 1 | SSSE3 = 1 | VSX = 0 | MATMUL_INT8 = 0 | LLAMAFILE = 1 | \n",
      "Model metadata: {'tokenizer.chat_template': \"{% for message in messages %}\\n{% if message['role'] == 'user' %}\\n{{ '<|user|>\\n' + message['content'] + eos_token }}\\n{% elif message['role'] == 'system' %}\\n{{ '<|system|>\\n' + message['content'] + eos_token }}\\n{% elif message['role'] == 'assistant' %}\\n{{ '<|assistant|>\\n'  + message['content'] + eos_token }}\\n{% endif %}\\n{% if loop.last and add_generation_prompt %}\\n{{ '<|assistant|>' }}\\n{% endif %}\\n{% endfor %}\", 'tokenizer.ggml.padding_token_id': '2', 'tokenizer.ggml.unknown_token_id': '0', 'tokenizer.ggml.eos_token_id': '2', 'general.architecture': 'llama', 'llama.rope.freq_base': '10000.000000', 'llama.context_length': '2048', 'general.name': 'tinyllama_tinyllama-1.1b-chat-v1.0', 'llama.embedding_length': '2048', 'llama.feed_forward_length': '5632', 'llama.attention.layer_norm_rms_epsilon': '0.000010', 'llama.rope.dimension_count': '64', 'tokenizer.ggml.bos_token_id': '1', 'llama.attention.head_count': '32', 'llama.block_count': '22', 'llama.attention.head_count_kv': '4', 'general.quantization_version': '2', 'tokenizer.ggml.model': 'llama', 'general.file_type': '7'}\n",
      "Available chat formats from metadata: chat_template.default\n",
      "Using gguf chat template: {% for message in messages %}\n",
      "{% if message['role'] == 'user' %}\n",
      "{{ '<|user|>\n",
      "' + message['content'] + eos_token }}\n",
      "{% elif message['role'] == 'system' %}\n",
      "{{ '<|system|>\n",
      "' + message['content'] + eos_token }}\n",
      "{% elif message['role'] == 'assistant' %}\n",
      "{{ '<|assistant|>\n",
      "'  + message['content'] + eos_token }}\n",
      "{% endif %}\n",
      "{% if loop.last and add_generation_prompt %}\n",
      "{{ '<|assistant|>' }}\n",
      "{% endif %}\n",
      "{% endfor %}\n",
      "Using chat eos_token: </s>\n",
      "Using chat bos_token: <s>\n"
     ]
    },
    {
     "name": "stdout",
     "output_type": "stream",
     "text": [
      "Llama object initialized successfully.\n"
     ]
    }
   ],
   "source": [
    "# Initialize a `Llama` object with the downloaded model path.\n",
    "llm = Llama(\n",
    "    model_path=model_path,\n",
    "\n",
    "    # Set the number of context tokens.\n",
    "    n_ctx=512,\n",
    "\n",
    "    # Set the number of threads to use.\n",
    "    n_threads=8,\n",
    "\n",
    "    # Set the number of GPU layers to work with.\n",
    "    n_gpu_layers=40\n",
    ")\n",
    "\n",
    "# Print a message indicating that the Llama object has been initialized.\n",
    "print('Llama object initialized successfully.')"
   ]
  },
  {
   "cell_type": "code",
   "execution_count": 35,
   "metadata": {},
   "outputs": [
    {
     "name": "stderr",
     "output_type": "stream",
     "text": [
      "\n",
      "llama_print_timings:        load time =    1503.31 ms\n",
      "llama_print_timings:      sample time =      22.89 ms /   379 runs   (    0.06 ms per token, 16560.34 tokens per second)\n",
      "llama_print_timings: prompt eval time =    1503.17 ms /    33 tokens (   45.55 ms per token,    21.95 tokens per second)\n",
      "llama_print_timings:        eval time =   54839.93 ms /   378 runs   (  145.08 ms per token,     6.89 tokens per second)\n",
      "llama_print_timings:       total time =   57015.75 ms /   411 tokens\n"
     ]
    }
   ],
   "source": [
    "# Use the Llama object to generate an answer to the question.\n",
    "output = llm(\n",
    "    # Prompt\n",
    "    \"<|im_start|>user\\nAre you a robot?<|im_end|>\\n<|im_start|>assistant\\n\",\n",
    "\n",
    "    # Set the maximum number of tokens to generate.\n",
    "    max_tokens=512,\n",
    "\n",
    "    # Set the stop sequences to inhttps://www.analyticsvidhya.com/blog/2024/02/sql-generation-in-text2sql-with-tinyllamas-llm-fine-tuning/dicate the end of the generated text.\n",
    "    stop=[\"</s>\"],\n",
    ")\n",
    "\n",
    "# Print the generated text.\n",
    "print(output['choices'][0]['text'])"
   ]
  },
  {
   "cell_type": "code",
   "execution_count": 50,
   "metadata": {},
   "outputs": [],
   "source": [
    "def chat_template(question, context):\n",
    "    \"\"\"\n",
    "    Creates a chat template for the Llama model.\n",
    "\n",
    "    Args:\n",
    "        question: The question to be answered.\n",
    "        context: The context information to be used for generating the answer.\n",
    "\n",
    "    Returns:\n",
    "        A string containing the chat template.\n",
    "    \"\"\"\n",
    "\n",
    "    template = f\"\"\"\\\n",
    "    <|im_start|>user\n",
    "    Given the database structure, generate an raw SQL query for the following question\n",
    "    database structure:{context}\n",
    "    question:{question}\n",
    "    <|im_end|>\n",
    "    <|im_start|>assistant \n",
    "    \"\"\"\n",
    "    # Remove any leading whitespace characters from each line in the template.\n",
    "    template = \"\\n\".join([line.lstrip() for line in template.splitlines()])\n",
    "    return template"
   ]
  },
  {
   "cell_type": "code",
   "execution_count": 51,
   "metadata": {},
   "outputs": [
    {
     "name": "stdout",
     "output_type": "stream",
     "text": [
      "<|im_start|>user\n",
      "Given the database structure, generate an raw SQL query for the following question\n",
      "database structure:CREATE TABLE 'users' ('id' VARCHAR NULL DEFAULT NULL,'code' VARCHAR(15) NULL DEFAULT NULL,'first_name' VARCHAR(20) NULL DEFAULT NULL,'middle_name' VARCHAR(20) NULL DEFAULT NULL,'last_name' VARCHAR(20) NULL DEFAULT NULL,'email' VARCHAR(55) NULL DEFAULT NULL,'phone_number' VARCHAR(13) NULL DEFAULT NULL,'date_of_birth' DATE NULL DEFAULT NULL,'department_id' INTEGER NULL DEFAULT NULL,'is_active' BOOLEAN NULL DEFAULT NULL);\n",
      "question:What is the name of users whose email is shiva.shankar@email.com?\n",
      "<|im_end|>\n",
      "<|im_start|>assistant \n",
      "\n"
     ]
    }
   ],
   "source": [
    "question = \"What is the name of users whose email is shiva.shankar@email.com?\"\n",
    "context = \"CREATE TABLE 'users' ('id' VARCHAR NULL DEFAULT NULL,'code' VARCHAR(15) NULL DEFAULT NULL,'first_name' VARCHAR(20) NULL DEFAULT NULL,'middle_name' VARCHAR(20) NULL DEFAULT NULL,'last_name' VARCHAR(20) NULL DEFAULT NULL,'email' VARCHAR(55) NULL DEFAULT NULL,'phone_number' VARCHAR(13) NULL DEFAULT NULL,'date_of_birth' DATE NULL DEFAULT NULL,'department_id' INTEGER NULL DEFAULT NULL,'is_active' BOOLEAN NULL DEFAULT NULL);\"\n",
    "print(chat_template(question,context))"
   ]
  },
  {
   "cell_type": "code",
   "execution_count": 52,
   "metadata": {},
   "outputs": [
    {
     "name": "stderr",
     "output_type": "stream",
     "text": [
      "Llama.generate: 13 prefix-match hit, remaining 185 prompt tokens to eval\n",
      "\n",
      "llama_print_timings:        load time =    1503.31 ms\n",
      "llama_print_timings:      sample time =       8.17 ms /   144 runs   (    0.06 ms per token, 17621.15 tokens per second)\n",
      "llama_print_timings: prompt eval time =    6153.96 ms /   185 tokens (   33.26 ms per token,    30.06 tokens per second)\n",
      "llama_print_timings:        eval time =   18659.85 ms /   143 runs   (  130.49 ms per token,     7.66 tokens per second)\n",
      "llama_print_timings:       total time =   24958.68 ms /   328 tokens\n"
     ]
    },
    {
     "name": "stdout",
     "output_type": "stream",
     "text": [
      "To answer the question, you can generate the following raw SQL query:\n",
      "```\n",
      "SELECT * FROM users WHERE email = 'shiva.sha<|user|>@email.com';\n",
      "```\n",
      "In this SQL query, `users` is the name of the table where the email column is located, `id`, `code`, `first_name`, `middle_name`, `last_name`, `email`, `phone_number`, `date_of_birth`, `department_id`, and `is_active` are the column names, and `'<|user|>@email.com'` is the email address of the user whose email you want to retrieve.\n"
     ]
    }
   ],
   "source": [
    "# Use the Llama object to generate an answer to the question.\n",
    "output = llm(\n",
    "    chat_template(question, context),\n",
    "    # Set the maximum number of tokens to generate.\n",
    "    max_tokens=512,\n",
    "    # Set the stop sequences to indicate the end of the generated text.\n",
    "    stop=[\"</s>\"],\n",
    ")\n",
    "\n",
    "# Print the generated text.\n",
    "pjrint(output['choices'][0]['text'])"
   ]
  },
  {
   "cell_type": "code",
   "execution_count": null,
   "metadata": {},
   "outputs": [],
   "source": []
  }
 ],
 "metadata": {
  "kernelspec": {
   "display_name": "env",
   "language": "python",
   "name": "python3"
  },
  "language_info": {
   "codemirror_mode": {
    "name": "ipython",
    "version": 3
   },
   "file_extension": ".py",
   "mimetype": "text/x-python",
   "name": "python",
   "nbconvert_exporter": "python",
   "pygments_lexer": "ipython3",
   "version": "3.12.5"
  }
 },
 "nbformat": 4,
 "nbformat_minor": 2
}
